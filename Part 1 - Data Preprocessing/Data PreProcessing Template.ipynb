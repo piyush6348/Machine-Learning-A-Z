{
 "cells": [
  {
   "cell_type": "code",
   "execution_count": 1,
   "metadata": {},
   "outputs": [
    {
     "data": {
      "text/plain": [
       "'\\nsc_X = StandardScaler()\\nX_train = sc_X.fit_transform(X_train)\\nX_test = sc_X.transform(X_test)'"
      ]
     },
     "execution_count": 1,
     "metadata": {},
     "output_type": "execute_result"
    }
   ],
   "source": [
    "import pandas as pd\n",
    "import numpy as np\n",
    "import matplotlib.pyplot as plt \n",
    "\n",
    "# Splitting the dataset into test set and training set\n",
    "from sklearn.model_selection import train_test_split\n",
    "\n",
    "\n",
    "# Feature Scaling- In practice it's seen that algos converge much faster if data is scaled properly\n",
    "\n",
    "# standardization Scaling = (x- min(x))/ sd\n",
    "# Normalization Scaling = (x- min(x))/ max(x) - min(x)\n",
    "\n",
    "from sklearn.preprocessing import  StandardScaler\n",
    "\n",
    "\n",
    "dataset = pd.read_csv('Data.csv')\n",
    "\n",
    "# last column not included\n",
    "X = dataset.iloc[:,:-1].values\n",
    "\n",
    "# last column value ie output\n",
    "Y = dataset.iloc[:,3].values\n",
    "\n",
    "\n",
    "# random state is just for sake of course\n",
    "X_train, X_test, Y_train, Y_test = train_test_split(X, Y, test_size = 0.2, random_state = 0)\n",
    "\n",
    "\"\"\"\n",
    "sc_X = StandardScaler()\n",
    "X_train = sc_X.fit_transform(X_train)\n",
    "X_test = sc_X.transform(X_test)\"\"\""
   ]
  },
  {
   "cell_type": "code",
   "execution_count": null,
   "metadata": {
    "collapsed": true
   },
   "outputs": [],
   "source": []
  }
 ],
 "metadata": {
  "kernelspec": {
   "display_name": "Python 2",
   "language": "python",
   "name": "python2"
  },
  "language_info": {
   "codemirror_mode": {
    "name": "ipython",
    "version": 2
   },
   "file_extension": ".py",
   "mimetype": "text/x-python",
   "name": "python",
   "nbconvert_exporter": "python",
   "pygments_lexer": "ipython2",
   "version": "2.7.12"
  }
 },
 "nbformat": 4,
 "nbformat_minor": 2
}
