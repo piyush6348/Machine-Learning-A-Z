{
 "cells": [
  {
   "cell_type": "code",
   "execution_count": 1,
   "metadata": {
    "collapsed": true
   },
   "outputs": [],
   "source": [
    "import pandas as pd\n",
    "import numpy as np\n",
    "import matplotlib.pyplot as plt "
   ]
  },
  {
   "cell_type": "code",
   "execution_count": 23,
   "metadata": {},
   "outputs": [
    {
     "name": "stdout",
     "output_type": "stream",
     "text": [
      "(10, 4)\n",
      "________________________________________\n",
      "   Country   Age   Salary Purchased\n",
      "0   France  44.0  72000.0        No\n",
      "1    Spain  27.0  48000.0       Yes\n",
      "2  Germany  30.0  54000.0        No\n",
      "3    Spain  38.0  61000.0        No\n",
      "4  Germany  40.0      NaN       Yes\n",
      "________________________________________\n",
      "[['France' 44.0 72000.0]\n",
      " ['Spain' 27.0 48000.0]\n",
      " ['Germany' 30.0 54000.0]\n",
      " ['Spain' 38.0 61000.0]\n",
      " ['Germany' 40.0 nan]\n",
      " ['France' 35.0 58000.0]\n",
      " ['Spain' nan 52000.0]\n",
      " ['France' 48.0 79000.0]\n",
      " ['Germany' 50.0 83000.0]\n",
      " ['France' 37.0 67000.0]]\n",
      "________________________________________\n",
      "['No' 'Yes' 'No' 'No' 'Yes' 'Yes' 'No' 'Yes' 'No' 'Yes']\n"
     ]
    }
   ],
   "source": [
    "dataset = pd.read_csv('Data.csv')\n",
    "\n",
    "# last column not included\n",
    "X = dataset.iloc[:,:-1].values\n",
    "\n",
    "# last column included\n",
    "Y = dataset.iloc[:,3].values\n",
    "\n",
    "print dataset.shape\n",
    "print '_'*40\n",
    "print dataset.head()\n",
    "print '_'*40\n",
    "print X\n",
    "print '_'*40\n",
    "print Y"
   ]
  },
  {
   "cell_type": "code",
   "execution_count": 24,
   "metadata": {},
   "outputs": [
    {
     "name": "stdout",
     "output_type": "stream",
     "text": [
      "________________________________________\n",
      "[['France' 44.0 72000.0]\n",
      " ['Spain' 27.0 48000.0]\n",
      " ['Germany' 30.0 54000.0]\n",
      " ['Spain' 38.0 61000.0]\n",
      " ['Germany' 40.0 63777.77777777778]\n",
      " ['France' 35.0 58000.0]\n",
      " ['Spain' 38.77777777777778 52000.0]\n",
      " ['France' 48.0 79000.0]\n",
      " ['Germany' 50.0 83000.0]\n",
      " ['France' 37.0 67000.0]]\n"
     ]
    }
   ],
   "source": [
    "# Taking care of missing data\n",
    "\n",
    "from sklearn.preprocessing import Imputer \n",
    "\n",
    "# mean means replace nan values with mean of that column. Other \n",
    "# strategies available are median and most_frequent. In mean the rows with nan were also counted in total count\n",
    "imputer = Imputer(missing_values = 'NaN', strategy = 'mean',axis = 0)\n",
    "\n",
    "# the parameter given are only those columns that contain nan which we have seen manually\n",
    "# 1:3 means columns with index 1,2. Indexing starts from 0.\n",
    "imputer = imputer.fit(X[:,1:3])\n",
    "\n",
    "X[:,1:3] = imputer.transform(X[:,1:3])\n",
    "\n",
    "print '_'*40\n",
    "\n",
    "print X"
   ]
  },
  {
   "cell_type": "code",
   "execution_count": 25,
   "metadata": {},
   "outputs": [
    {
     "name": "stdout",
     "output_type": "stream",
     "text": [
      "[[  0.00000000e+00   1.00000000e+00   0.00000000e+00   0.00000000e+00\n",
      "    7.00000000e+00   7.20000000e+04]\n",
      " [  1.00000000e+00   0.00000000e+00   0.00000000e+00   1.00000000e+00\n",
      "    0.00000000e+00   4.80000000e+04]\n",
      " [  1.00000000e+00   0.00000000e+00   1.00000000e+00   0.00000000e+00\n",
      "    1.00000000e+00   5.40000000e+04]\n",
      " [  1.00000000e+00   0.00000000e+00   0.00000000e+00   1.00000000e+00\n",
      "    4.00000000e+00   6.10000000e+04]\n",
      " [  1.00000000e+00   0.00000000e+00   1.00000000e+00   0.00000000e+00\n",
      "    6.00000000e+00   6.37777778e+04]\n",
      " [  0.00000000e+00   1.00000000e+00   0.00000000e+00   0.00000000e+00\n",
      "    2.00000000e+00   5.80000000e+04]\n",
      " [  1.00000000e+00   0.00000000e+00   0.00000000e+00   1.00000000e+00\n",
      "    5.00000000e+00   5.20000000e+04]\n",
      " [  0.00000000e+00   1.00000000e+00   0.00000000e+00   0.00000000e+00\n",
      "    8.00000000e+00   7.90000000e+04]\n",
      " [  1.00000000e+00   0.00000000e+00   1.00000000e+00   0.00000000e+00\n",
      "    9.00000000e+00   8.30000000e+04]\n",
      " [  0.00000000e+00   1.00000000e+00   0.00000000e+00   0.00000000e+00\n",
      "    3.00000000e+00   6.70000000e+04]]\n"
     ]
    }
   ],
   "source": [
    "# Encoding categorial Data- Data ie not numeric(Country and Purchased in above case)\n",
    "\n",
    "from sklearn.preprocessing import OneHotEncoder,LabelEncoder\n",
    "\n",
    "# new objectof LabelEncoder class\n",
    "labelEncoder_X = LabelEncoder()\n",
    "\n",
    "# In 0th column replace 'France','Spain','Germany' by any number throughout\n",
    "# This is done bcz ML algos generally deal with numbers not strings hence we map for our later ease\n",
    "X[:,0] = labelEncoder_X.fit_transform(X[:,0])\n",
    "\n",
    "# parameters an array containing the index of column to be mapped\n",
    "# In above we converted country column to numbers \n",
    "# Now we created columns equal to number of distinct country values and delete the original country col\n",
    "# where every column corresponds to a value in original column\n",
    "# if a row has value spain then we just mark 1 in spains new column\n",
    "oneHotEncoder = OneHotEncoder(categorical_features = [0])\n",
    "X = oneHotEncoder.fit_transform(X).toarray()\n",
    "\n",
    "# doing the same as above for Purchased column\n",
    "labelEncoder_Y = LabelEncoder()\n",
    "X[:,3] = labelEncoder_Y.fit_transform(X[:,3])\n",
    "X = oneHotEncoder.fit_transform(X).toarray()\n",
    "print X"
   ]
  },
  {
   "cell_type": "code",
   "execution_count": 32,
   "metadata": {},
   "outputs": [
    {
     "data": {
      "text/plain": [
       "array([[  1.00000000e+00,   0.00000000e+00,   1.00000000e+00,\n",
       "          0.00000000e+00,   6.00000000e+00,   6.37777778e+04],\n",
       "       [  0.00000000e+00,   1.00000000e+00,   0.00000000e+00,\n",
       "          0.00000000e+00,   3.00000000e+00,   6.70000000e+04],\n",
       "       [  1.00000000e+00,   0.00000000e+00,   0.00000000e+00,\n",
       "          1.00000000e+00,   0.00000000e+00,   4.80000000e+04],\n",
       "       [  1.00000000e+00,   0.00000000e+00,   0.00000000e+00,\n",
       "          1.00000000e+00,   5.00000000e+00,   5.20000000e+04],\n",
       "       [  0.00000000e+00,   1.00000000e+00,   0.00000000e+00,\n",
       "          0.00000000e+00,   8.00000000e+00,   7.90000000e+04],\n",
       "       [  1.00000000e+00,   0.00000000e+00,   0.00000000e+00,\n",
       "          1.00000000e+00,   4.00000000e+00,   6.10000000e+04],\n",
       "       [  0.00000000e+00,   1.00000000e+00,   0.00000000e+00,\n",
       "          0.00000000e+00,   7.00000000e+00,   7.20000000e+04],\n",
       "       [  0.00000000e+00,   1.00000000e+00,   0.00000000e+00,\n",
       "          0.00000000e+00,   2.00000000e+00,   5.80000000e+04]])"
      ]
     },
     "execution_count": 32,
     "metadata": {},
     "output_type": "execute_result"
    }
   ],
   "source": [
    "# Splitting the dataset into test set and training set\n",
    "\n",
    "from sklearn.cross_validation import train_test_split\n",
    "\n",
    "# random state is just for sake of course\n",
    "X_train, X_test, Y_train, Y_test = train_test_split(X, Y, test_size = 0.2, random_state = 0)\n",
    "X_train"
   ]
  },
  {
   "cell_type": "code",
   "execution_count": 38,
   "metadata": {},
   "outputs": [],
   "source": [
    "# Feature Scaling- In practice it's seen that algos converge much faster if data is scaled properly\n",
    "\n",
    "# standardization Scaling = (x- min(x))/ sd\n",
    "# Normalization Scaling = (x- min(x))/ max(x) - min(x)\n",
    "\n",
    "from sklearn.preprocessing import  StandardScaler\n",
    "\n",
    "sc_X = StandardScaler()\n",
    "\n",
    "X_train = sc_X.fit_transform(X_train)\n",
    "X_test = sc_X.transform(X_test)"
   ]
  },
  {
   "cell_type": "code",
   "execution_count": null,
   "metadata": {
    "collapsed": true
   },
   "outputs": [],
   "source": []
  }
 ],
 "metadata": {
  "kernelspec": {
   "display_name": "Python 2",
   "language": "python",
   "name": "python2"
  },
  "language_info": {
   "codemirror_mode": {
    "name": "ipython",
    "version": 2
   },
   "file_extension": ".py",
   "mimetype": "text/x-python",
   "name": "python",
   "nbconvert_exporter": "python",
   "pygments_lexer": "ipython2",
   "version": "2.7.12"
  }
 },
 "nbformat": 4,
 "nbformat_minor": 2
}
