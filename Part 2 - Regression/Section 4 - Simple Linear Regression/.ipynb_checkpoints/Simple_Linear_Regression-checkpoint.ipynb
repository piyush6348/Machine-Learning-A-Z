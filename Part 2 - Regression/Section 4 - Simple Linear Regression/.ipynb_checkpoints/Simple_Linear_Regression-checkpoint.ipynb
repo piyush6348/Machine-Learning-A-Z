{
 "cells": [
  {
   "cell_type": "code",
   "execution_count": 19,
   "metadata": {},
   "outputs": [
    {
     "name": "stdout",
     "output_type": "stream",
     "text": [
      "(30, 2)\n",
      "________________________________________\n",
      "20\n",
      "[[  2.9]\n",
      " [  5.1]\n",
      " [  3.2]\n",
      " [  4.5]\n",
      " [  8.2]\n",
      " [  6.8]\n",
      " [  1.3]\n",
      " [ 10.5]\n",
      " [  3. ]\n",
      " [  2.2]\n",
      " [  5.9]\n",
      " [  6. ]\n",
      " [  3.7]\n",
      " [  3.2]\n",
      " [  9. ]\n",
      " [  2. ]\n",
      " [  1.1]\n",
      " [  7.1]\n",
      " [  4.9]\n",
      " [  4. ]]\n",
      "________________________________________\n",
      "10\n",
      "[[  1.5]\n",
      " [ 10.3]\n",
      " [  4.1]\n",
      " [  3.9]\n",
      " [  9.5]\n",
      " [  8.7]\n",
      " [  9.6]\n",
      " [  4. ]\n",
      " [  5.3]\n",
      " [  7.9]]\n"
     ]
    }
   ],
   "source": [
    "import pandas as pd\n",
    "import numpy as np\n",
    "import matplotlib.pyplot as plt \n",
    "\n",
    "# Splitting the dataset into test set and training set\n",
    "from sklearn.model_selection import train_test_split\n",
    "\n",
    "\n",
    "# Feature Scaling- In practice it's seen that algos converge much faster if data is scaled properly\n",
    "\n",
    "# standardization Scaling = (x- min(x))/ sd\n",
    "# Normalization Scaling = (x- min(x))/ max(x) - min(x)\n",
    "\n",
    "from sklearn.preprocessing import  StandardScaler\n",
    "\n",
    "\n",
    "dataset = pd.read_csv('Salary_Data.csv')\n",
    "\n",
    "# last column not included\n",
    "X = dataset.iloc[:,:-1].values\n",
    "\n",
    "# last column value ie output. Here 1 is index of last column\n",
    "Y = dataset.iloc[:,1].values\n",
    "\n",
    "\n",
    "# random state is just for sake of course. We can use values like 0,42 etc.\n",
    "X_train, X_test, Y_train, Y_test = train_test_split(X, Y, test_size = 1.0/3.0, random_state = 0)\n",
    "\n",
    "print dataset.shape\n",
    "print '_'*40\n",
    "print len(X_train)\n",
    "print X_train\n",
    "print '_'*40\n",
    "print len(X_test)\n",
    "print X_test\n"
   ]
  },
  {
   "cell_type": "code",
   "execution_count": 22,
   "metadata": {},
   "outputs": [
    {
     "data": {
      "text/plain": [
       "LinearRegression(copy_X=True, fit_intercept=True, n_jobs=1, normalize=False)"
      ]
     },
     "execution_count": 22,
     "metadata": {},
     "output_type": "execute_result"
    }
   ],
   "source": [
    "# Fitting Simple Linear Regression to Training Data Set\n",
    "\n",
    "from sklearn.linear_model import LinearRegression\n",
    "\n",
    "#LinearRegression?\n",
    "regressor = LinearRegression()\n",
    "regressor.fit(X_train, Y_train)"
   ]
  },
  {
   "cell_type": "code",
   "execution_count": 23,
   "metadata": {
    "collapsed": true
   },
   "outputs": [],
   "source": [
    "# Predicting the test set results\n",
    "\n",
    "Y_pred = regressor.predict(X_test)"
   ]
  },
  {
   "cell_type": "code",
   "execution_count": 29,
   "metadata": {},
   "outputs": [
    {
     "data": {
      "image/png": "[encoded data removed]",
      "text/plain": [
       "<matplotlib.figure.Figure at 0x7f1555eecdd0>"
      ]
     },
     "metadata": {},
     "output_type": "display_data"
    }
   ],
   "source": [
    "# Visualising the training set results\n",
    "\n",
    "plt.scatter(X_train,Y_train,color = 'red')\n",
    "\n",
    "# Our trained model\n",
    "plt.plot(X_train,regressor.predict(X_train),color = 'blue')\n",
    "plt.title(\"Salary vs Experience (Training Set)\")\n",
    "plt.xlabel(\"Years of Experience\")\n",
    "plt.ylabel(\"Salary\")\n",
    "plt.show()"
   ]
  },
  {
   "cell_type": "code",
   "execution_count": 30,
   "metadata": {},
   "outputs": [
    {
     "data": {
      "image/png": "[encoded data removed]",
      "text/plain": [
       "<matplotlib.figure.Figure at 0x7f1555d6b0d0>"
      ]
     },
     "metadata": {},
     "output_type": "display_data"
    }
   ],
   "source": [
    "# Visualising the test set results\n",
    "\n",
    "plt.scatter(X_test,Y_test,color = 'red')\n",
    "\n",
    "# Our trained model\n",
    "plt.plot(X_train,regressor.predict(X_train),color = 'blue')\n",
    "\n",
    "plt.title(\"Salary vs Experience (Test Set)\")\n",
    "plt.xlabel(\"Years of Experience\")\n",
    "plt.ylabel(\"Salary\")\n",
    "plt.show()"
   ]
  },
  {
   "cell_type": "code",
   "execution_count": null,
   "metadata": {
    "collapsed": true
   },
   "outputs": [],
   "source": []
  }
 ],
 "metadata": {
  "kernelspec": {
   "display_name": "Python 2",
   "language": "python",
   "name": "python2"
  },
  "language_info": {
   "codemirror_mode": {
    "name": "ipython",
    "version": 2
   },
   "file_extension": ".py",
   "mimetype": "text/x-python",
   "name": "python",
   "nbconvert_exporter": "python",
   "pygments_lexer": "ipython2",
   "version": "2.7.12"
  }
 },
 "nbformat": 4,
 "nbformat_minor": 2
}
