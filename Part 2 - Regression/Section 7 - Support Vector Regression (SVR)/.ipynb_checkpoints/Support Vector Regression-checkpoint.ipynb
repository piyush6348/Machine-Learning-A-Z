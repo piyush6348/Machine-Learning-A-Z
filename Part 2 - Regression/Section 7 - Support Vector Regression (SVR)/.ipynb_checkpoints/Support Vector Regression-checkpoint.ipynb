{
 "cells": [
  {
   "cell_type": "code",
   "execution_count": 16,
   "metadata": {},
   "outputs": [
    {
     "name": "stdout",
     "output_type": "stream",
     "text": [
      "            Position  Level   Salary\n",
      "0   Business Analyst      1    45000\n",
      "1  Junior Consultant      2    50000\n",
      "2  Senior Consultant      3    60000\n",
      "3            Manager      4    80000\n",
      "4    Country Manager      5   110000\n",
      "5     Region Manager      6   150000\n",
      "6            Partner      7   200000\n",
      "7     Senior Partner      8   300000\n",
      "8            C-level      9   500000\n",
      "9                CEO     10  1000000\n"
     ]
    }
   ],
   "source": [
    "import pandas as pd\n",
    "import numpy as np\n",
    "import matplotlib.pyplot as plt \n",
    "\n",
    "# Splitting the dataset into test set and training set\n",
    "from sklearn.model_selection import train_test_split\n",
    "\n",
    "# Feature Scaling- In practice it's seen that algos converge much faster if data is scaled properly\n",
    "# standardization Scaling = (x- min(x))/ sd\n",
    "# Normalization Scaling = (x- min(x))/ max(x) - min(x)\n",
    "from sklearn.preprocessing import  StandardScaler\n",
    "\n",
    "\n",
    "dataset = pd.read_csv('Position_Salaries.csv')\n",
    "\n",
    "print dataset\n",
    "# last column not included\n",
    "X = dataset.iloc[:,1:2].values\n",
    "\n",
    "# last column value ie output\n",
    "Y = dataset.iloc[:,2:3].values\n",
    "\n",
    "\n",
    "# dataset is small so no need to split otherwise training will not be good\n",
    "\"\"\"\n",
    "# random state is just for sake of course\n",
    "X_train, X_test, Y_train, Y_test = train_test_split(X, Y, test_size = 0.2, random_state = 0)\"\"\"\n",
    "\n",
    "# no need to scale the data as LinearRegression/ mostly  libraries does it on it's own.\n",
    "\n",
    "# Pretty printing of np arrays\n",
    "np.set_printoptions(suppress=True)"
   ]
  },
  {
   "cell_type": "code",
   "execution_count": 17,
   "metadata": {},
   "outputs": [],
   "source": [
    "# Feature SCaling\n",
    "\n",
    "from sklearn.preprocessing import StandardScaler\n",
    "sc_X = StandardScaler()\n",
    "sc_Y = StandardScaler()\n",
    "X = sc_X.fit_transform(X)\n",
    "Y = sc_Y.fit_transform(Y)"
   ]
  },
  {
   "cell_type": "code",
   "execution_count": 23,
   "metadata": {},
   "outputs": [
    {
     "data": {
      "text/plain": [
       "SVR(C=1.0, cache_size=200, coef0=0.0, degree=3, epsilon=0.1, gamma='auto',\n",
       "  kernel='rbf', max_iter=-1, shrinking=True, tol=0.001, verbose=False)"
      ]
     },
     "execution_count": 23,
     "metadata": {},
     "output_type": "execute_result"
    }
   ],
   "source": [
    "# Fitting the SVR model to dataset\n",
    "\n",
    "# Fun fact SVR is less common class and do not performs feature scaling on its own.\n",
    "from sklearn.svm import SVR\n",
    "\n",
    "# kernel : string, optional (default='rbf')\n",
    "\"\"\"\n",
    "Specifies the kernel type to be used in the algorithm.\n",
    "It must be one of 'linear', 'poly', 'rbf', 'sigmoid', 'precomputed' or\n",
    "a callable.\n",
    "If none is given, 'rbf' will be used. If a callable is given it is\n",
    "used to precompute the kernel matrix.\"\"\"\n",
    "\n",
    "regressor = SVR(kernel = 'rbf')\n",
    "regressor.fit(X,Y)"
   ]
  },
  {
   "cell_type": "code",
   "execution_count": 22,
   "metadata": {},
   "outputs": [
    {
     "name": "stdout",
     "output_type": "stream",
     "text": [
      "[ 170370.0204065]\n"
     ]
    }
   ],
   "source": [
    "# Predicting a new result with SVR\n",
    "\n",
    "y_pred = regressor.predict(sc_X.transform(6.5))\n",
    "print sc_Y.inverse_transform(y_pred)"
   ]
  },
  {
   "cell_type": "code",
   "execution_count": 20,
   "metadata": {},
   "outputs": [
    {
     "data": {
      "image/png": "[encoded data removed]",
      "text/plain": [
       "<matplotlib.figure.Figure at 0x7fdacdf33650>"
      ]
     },
     "metadata": {},
     "output_type": "display_data"
    }
   ],
   "source": [
    "# Visualising the regression results\n",
    "\n",
    "plt.figure(0)\n",
    "plt.scatter(X,Y)\n",
    "plt.plot(X,regressor.predict(X),'b')\n",
    "plt.xlabel(\"Position Lvl\")\n",
    "plt.ylabel(\"Salary\")\n",
    "plt.title(\"Truth vs Bluff (SVR Model)\")\n",
    "plt.show()"
   ]
  },
  {
   "cell_type": "code",
   "execution_count": null,
   "metadata": {
    "collapsed": true
   },
   "outputs": [],
   "source": [
    "# The last point ie CEO is an outlier"
   ]
  }
 ],
 "metadata": {
  "kernelspec": {
   "display_name": "Python 2",
   "language": "python",
   "name": "python2"
  },
  "language_info": {
   "codemirror_mode": {
    "name": "ipython",
    "version": 2
   },
   "file_extension": ".py",
   "mimetype": "text/x-python",
   "name": "python",
   "nbconvert_exporter": "python",
   "pygments_lexer": "ipython2",
   "version": "2.7.12"
  }
 },
 "nbformat": 4,
 "nbformat_minor": 2
}
