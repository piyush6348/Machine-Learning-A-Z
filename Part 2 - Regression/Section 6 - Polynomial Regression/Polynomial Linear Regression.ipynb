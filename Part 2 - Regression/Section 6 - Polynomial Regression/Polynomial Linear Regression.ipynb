{
 "cells": [
  {
   "cell_type": "code",
   "execution_count": 74,
   "metadata": {},
   "outputs": [
    {
     "name": "stdout",
     "output_type": "stream",
     "text": [
      "            Position  Level   Salary\n",
      "0   Business Analyst      1    45000\n",
      "1  Junior Consultant      2    50000\n",
      "2  Senior Consultant      3    60000\n",
      "3            Manager      4    80000\n",
      "4    Country Manager      5   110000\n",
      "5     Region Manager      6   150000\n",
      "6            Partner      7   200000\n",
      "7     Senior Partner      8   300000\n",
      "8            C-level      9   500000\n",
      "9                CEO     10  1000000\n"
     ]
    }
   ],
   "source": [
    "import pandas as pd\n",
    "import numpy as np\n",
    "import matplotlib.pyplot as plt \n",
    "\n",
    "# Splitting the dataset into test set and training set\n",
    "from sklearn.model_selection import train_test_split\n",
    "\n",
    "\n",
    "# Feature Scaling- In practice it's seen that algos converge much faster if data is scaled properly\n",
    "\n",
    "# standardization Scaling = (x- min(x))/ sd\n",
    "# Normalization Scaling = (x- min(x))/ max(x) - min(x)\n",
    "\n",
    "from sklearn.preprocessing import  StandardScaler\n",
    "\n",
    "\n",
    "dataset = pd.read_csv('Position_Salaries.csv')\n",
    "\n",
    "print dataset\n",
    "# last column not included\n",
    "X = dataset.iloc[:,1:2].values\n",
    "\n",
    "# last column value ie output\n",
    "Y = dataset.iloc[:,2].values\n",
    "\n",
    "\n",
    "# dataset is small so no need to split otherwise training will not be good\n",
    "\"\"\"\n",
    "# random state is just for sake of course\n",
    "X_train, X_test, Y_train, Y_test = train_test_split(X, Y, test_size = 0.2, random_state = 0)\"\"\"\n",
    "\n",
    "# no need to scale the data as LinearRegression Library does it on it's own.\n",
    "\n",
    "# Pretty printing of np arrays\n",
    "np.set_printoptions(suppress=True)"
   ]
  },
  {
   "cell_type": "code",
   "execution_count": 75,
   "metadata": {},
   "outputs": [
    {
     "data": {
      "text/plain": [
       "LinearRegression(copy_X=True, fit_intercept=True, n_jobs=1, normalize=False)"
      ]
     },
     "execution_count": 75,
     "metadata": {},
     "output_type": "execute_result"
    }
   ],
   "source": [
    "# Fitting linear regression model to our data\n",
    "\n",
    "from sklearn.linear_model import LinearRegression\n",
    "\n",
    "linRegressor = LinearRegression()\n",
    "linRegressor.fit(X,Y)"
   ]
  },
  {
   "cell_type": "code",
   "execution_count": 76,
   "metadata": {},
   "outputs": [
    {
     "name": "stdout",
     "output_type": "stream",
     "text": [
      "[[ 1]\n",
      " [ 2]\n",
      " [ 3]\n",
      " [ 4]\n",
      " [ 5]\n",
      " [ 6]\n",
      " [ 7]\n",
      " [ 8]\n",
      " [ 9]\n",
      " [10]]\n",
      "________________________________________\n",
      "[[   1.    1.    1.]\n",
      " [   1.    2.    4.]\n",
      " [   1.    3.    9.]\n",
      " [   1.    4.   16.]\n",
      " [   1.    5.   25.]\n",
      " [   1.    6.   36.]\n",
      " [   1.    7.   49.]\n",
      " [   1.    8.   64.]\n",
      " [   1.    9.   81.]\n",
      " [   1.   10.  100.]]\n"
     ]
    }
   ],
   "source": [
    "# Fitting polynomial regression model to our data\n",
    "\n",
    "from sklearn.preprocessing import PolynomialFeatures\n",
    "\n",
    "polyRegressor = PolynomialFeatures(degree = 2)\n",
    "X_poly = polyRegressor.fit_transform(X)\n",
    "\n",
    "# helps us to see what polyRegressor had done basically.\n",
    "# 1st column is x0 ie col of ones\n",
    "# 2nd col is X as it is\n",
    "# 3rd col is X**2\n",
    "print X\n",
    "print \"_\"*40\n",
    "print X_poly"
   ]
  },
  {
   "cell_type": "code",
   "execution_count": 77,
   "metadata": {},
   "outputs": [
    {
     "data": {
      "text/plain": [
       "LinearRegression(copy_X=True, fit_intercept=True, n_jobs=1, normalize=False)"
      ]
     },
     "execution_count": 77,
     "metadata": {},
     "output_type": "execute_result"
    }
   ],
   "source": [
    "# Traing a model on this newly transformed data\n",
    "polyReg = LinearRegression()\n",
    "polyReg.fit(X_poly,Y)"
   ]
  },
  {
   "cell_type": "code",
   "execution_count": 78,
   "metadata": {},
   "outputs": [
    {
     "data": {
      "image/png": "[encoded data removed]",
      "text/plain": [
       "<matplotlib.figure.Figure at 0x7f5c242431d0>"
      ]
     },
     "metadata": {},
     "output_type": "display_data"
    }
   ],
   "source": [
    "#  Visualising the LinearRegression results\n",
    "\n",
    "plt.figure(0)\n",
    "plt.scatter(X,Y)\n",
    "plt.plot(X,linRegressor.predict(X),'b')\n",
    "plt.xlabel(\"Position Lvl\")\n",
    "plt.ylabel(\"Salary\")\n",
    "plt.title(\"Truth vs Bluff (Linear Regression)\")\n",
    "plt.show()"
   ]
  },
  {
   "cell_type": "code",
   "execution_count": 79,
   "metadata": {},
   "outputs": [
    {
     "data": {
      "image/png": "[encoded data removed]",
      "text/plain": [
       "<matplotlib.figure.Figure at 0x7f5c24384210>"
      ]
     },
     "metadata": {},
     "output_type": "display_data"
    }
   ],
   "source": [
    "#  Visualising the PolynomialRegression results for degree 2\n",
    "\n",
    "plt.figure(0)\n",
    "plt.scatter(X,Y)\n",
    "plt.plot(X,polyReg.predict(polyRegressor.fit_transform(X)),'b')\n",
    "plt.xlabel(\"Position Lvl\")\n",
    "plt.ylabel(\"Salary\")\n",
    "plt.title(\"Truth vs Bluff (Polynomial Regression)\")\n",
    "plt.show()"
   ]
  },
  {
   "cell_type": "code",
   "execution_count": 80,
   "metadata": {},
   "outputs": [
    {
     "name": "stdout",
     "output_type": "stream",
     "text": [
      "[[ 1]\n",
      " [ 2]\n",
      " [ 3]\n",
      " [ 4]\n",
      " [ 5]\n",
      " [ 6]\n",
      " [ 7]\n",
      " [ 8]\n",
      " [ 9]\n",
      " [10]]\n",
      "________________________________________\n",
      "[[    1.     1.     1.     1.]\n",
      " [    1.     2.     4.     8.]\n",
      " [    1.     3.     9.    27.]\n",
      " [    1.     4.    16.    64.]\n",
      " [    1.     5.    25.   125.]\n",
      " [    1.     6.    36.   216.]\n",
      " [    1.     7.    49.   343.]\n",
      " [    1.     8.    64.   512.]\n",
      " [    1.     9.    81.   729.]\n",
      " [    1.    10.   100.  1000.]]\n"
     ]
    },
    {
     "data": {
      "image/png": "[encoded data removed]",
      "text/plain": [
       "<matplotlib.figure.Figure at 0x7f5c2420f210>"
      ]
     },
     "metadata": {},
     "output_type": "display_data"
    }
   ],
   "source": [
    "# same with degree 3\n",
    "# just change this value 3 to observe effect of change of degree\n",
    "polyRegressor2 = PolynomialFeatures(degree = 3)\n",
    "X_poly2 = polyRegressor2.fit_transform(X)\n",
    "\n",
    "# helps us to see what polyRegressor had done basically.\n",
    "# 1st column is x0 ie col of ones\n",
    "# 2nd col is X as it is\n",
    "# 3rd col is X**2\n",
    "# 4th col is X**3\n",
    "print X\n",
    "print \"_\"*40\n",
    "print X_poly2\n",
    "\n",
    "polyRegModel = LinearRegression()\n",
    "polyRegModel.fit(X_poly2,Y)\n",
    "\n",
    "plt.figure(0)\n",
    "plt.scatter(X,Y)\n",
    "plt.plot(X,polyRegModel.predict(polyRegressor2.fit_transform(X)),'b')\n",
    "plt.xlabel(\"Position Lvl\")\n",
    "plt.ylabel(\"Salary\")\n",
    "plt.title(\"Truth vs Bluff (Polynomial Regression)\")\n",
    "plt.show()"
   ]
  },
  {
   "cell_type": "code",
   "execution_count": 81,
   "metadata": {},
   "outputs": [
    {
     "name": "stdout",
     "output_type": "stream",
     "text": [
      "[ 330378.78787879]\n"
     ]
    }
   ],
   "source": [
    "# Predicting a new result with linear regression\n",
    "\n",
    "print linRegressor.predict(6.5)"
   ]
  },
  {
   "cell_type": "code",
   "execution_count": 82,
   "metadata": {},
   "outputs": [
    {
     "name": "stdout",
     "output_type": "stream",
     "text": [
      "[ 189498.10606061]\n",
      "[ 133259.46969698]\n"
     ]
    }
   ],
   "source": [
    "# Predicting a new result with polynomial regression\n",
    "\n",
    "# polynomial regression with degree 2\n",
    "print polyReg.predict(polyRegressor.fit_transform(6.5))\n",
    "\n",
    "# polynomial regression with degree 3\n",
    "print polyRegModel.predict(polyRegressor2.fit_transform(6.5))"
   ]
  },
  {
   "cell_type": "code",
   "execution_count": null,
   "metadata": {
    "collapsed": true
   },
   "outputs": [],
   "source": []
  }
 ],
 "metadata": {
  "kernelspec": {
   "display_name": "Python 2",
   "language": "python",
   "name": "python2"
  },
  "language_info": {
   "codemirror_mode": {
    "name": "ipython",
    "version": 2
   },
   "file_extension": ".py",
   "mimetype": "text/x-python",
   "name": "python",
   "nbconvert_exporter": "python",
   "pygments_lexer": "ipython2",
   "version": "2.7.12"
  }
 },
 "nbformat": 4,
 "nbformat_minor": 2
}
